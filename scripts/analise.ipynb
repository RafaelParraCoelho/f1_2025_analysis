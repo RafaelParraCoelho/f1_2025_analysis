{
 "cells": [
  {
   "cell_type": "markdown",
   "id": "ba5dbc8b",
   "metadata": {},
   "source": [
    "# Formula 1 - 2025 Season Analysis"
   ]
  },
  {
   "cell_type": "markdown",
   "id": "48e375bf",
   "metadata": {},
   "source": [
    "## Setup"
   ]
  },
  {
   "cell_type": "code",
   "execution_count": null,
   "id": "abcef250",
   "metadata": {
    "vscode": {
     "languageId": "plaintext"
    }
   },
   "outputs": [],
   "source": [
    "import pandas as pd\n",
    "import matplotlib.pyplot as plt\n",
    "import analise"
   ]
  },
  {
   "cell_type": "code",
   "execution_count": null,
   "id": "807829fb",
   "metadata": {
    "vscode": {
     "languageId": "plaintext"
    }
   },
   "outputs": [],
   "source": [
    "df = analise.load_data(\"data/f1_pilotos_classificacao_2025.csv\")"
   ]
  },
  {
   "cell_type": "markdown",
   "id": "871d5e8a",
   "metadata": {},
   "source": [
    "## Top 5 pilots"
   ]
  },
  {
   "cell_type": "code",
   "execution_count": null,
   "id": "422c3a03",
   "metadata": {
    "vscode": {
     "languageId": "plaintext"
    }
   },
   "outputs": [],
   "source": [
    "df[[\"Driver\", \"Points\"]].head(5)"
   ]
  },
  {
   "cell_type": "markdown",
   "id": "8eb1037e",
   "metadata": {},
   "source": [
    "## Plots"
   ]
  },
  {
   "cell_type": "code",
   "execution_count": null,
   "id": "1cdea716",
   "metadata": {
    "vscode": {
     "languageId": "plaintext"
    }
   },
   "outputs": [],
   "source": [
    "analise.plot_points_per_pilot(df)"
   ]
  },
  {
   "cell_type": "code",
   "execution_count": null,
   "id": "c9581436",
   "metadata": {
    "vscode": {
     "languageId": "plaintext"
    }
   },
   "outputs": [],
   "source": [
    "analise.plot_teams(df)"
   ]
  }
 ],
 "metadata": {
  "language_info": {
   "name": "python"
  }
 },
 "nbformat": 4,
 "nbformat_minor": 5
}
